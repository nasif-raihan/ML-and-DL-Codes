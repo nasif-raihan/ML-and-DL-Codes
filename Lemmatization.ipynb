{
  "nbformat": 4,
  "nbformat_minor": 0,
  "metadata": {
    "colab": {
      "provenance": [],
      "authorship_tag": "ABX9TyMcz4w1kPvsIglourXWvoM4"
    },
    "kernelspec": {
      "name": "python3",
      "display_name": "Python 3"
    },
    "language_info": {
      "name": "python"
    }
  },
  "cells": [
    {
      "cell_type": "code",
      "execution_count": 1,
      "metadata": {
        "colab": {
          "base_uri": "https://localhost:8080/"
        },
        "id": "tHzkDUQvx3mG",
        "outputId": "af234cd0-f98d-49b5-a3fa-25f4c7770ae9"
      },
      "outputs": [
        {
          "output_type": "stream",
          "name": "stderr",
          "text": [
            "[nltk_data] Downloading package stopwords to /root/nltk_data...\n",
            "[nltk_data]   Package stopwords is already up-to-date!\n",
            "[nltk_data] Downloading package punkt to /root/nltk_data...\n",
            "[nltk_data]   Package punkt is already up-to-date!\n",
            "[nltk_data] Downloading package wordnet to /root/nltk_data...\n",
            "[nltk_data]   Package wordnet is already up-to-date!\n"
          ]
        }
      ],
      "source": [
        "import nltk\n",
        "\n",
        "nltk.download('stopwords')\n",
        "nltk.download('punkt')\n",
        "nltk.download('wordnet')\n",
        "\n",
        "from nltk.stem import WordNetLemmatizer\n",
        "from nltk.corpus import stopwords"
      ]
    },
    {
      "cell_type": "code",
      "source": [
        "paragraph = \"\"\"On Thursday, Georgia was the staging ground for the largest\n",
        "single site immigration raid in the history of Immigration and Customs\n",
        "Enforcement’s Homeland Security Investigations wing. In total, the operation at\n",
        "the Hyundai Metaplant campus near Savannah netted 475 arrests of immigrants\n",
        "working in the U.S. without authorization, the majority of whom were Korean\n",
        "nationals, authorities said.\n",
        "\"\"\"\n"
      ],
      "metadata": {
        "id": "WURkNzccyBMU"
      },
      "execution_count": 2,
      "outputs": []
    },
    {
      "cell_type": "code",
      "source": [
        "sentences = nltk.sent_tokenize(paragraph, language='english')\n",
        "lemmatizer = WordNetLemmatizer()"
      ],
      "metadata": {
        "id": "fFf5b0R8HBO_"
      },
      "execution_count": 3,
      "outputs": []
    },
    {
      "cell_type": "code",
      "source": [
        "for i in range(len(sentences)):\n",
        "  words = nltk.word_tokenize(sentences[i])\n",
        "  lemmatized_words = []\n",
        "  for word in words:\n",
        "    if word not in set(stopwords.words('english')):\n",
        "      print(f\"{word} -----> {lemmatizer.lemmatize(word)}\")\n",
        "      lemmatized_words.append(lemmatizer.lemmatize(word))"
      ],
      "metadata": {
        "colab": {
          "base_uri": "https://localhost:8080/"
        },
        "id": "2_js5CIM2RnE",
        "outputId": "aac01e5c-415d-414f-c885-665c5b2c57bd"
      },
      "execution_count": 4,
      "outputs": [
        {
          "output_type": "stream",
          "name": "stdout",
          "text": [
            "On -----> On\n",
            "Thursday -----> Thursday\n",
            ", -----> ,\n",
            "Georgia -----> Georgia\n",
            "staging -----> staging\n",
            "ground -----> ground\n",
            "largest -----> largest\n",
            "single -----> single\n",
            "site -----> site\n",
            "immigration -----> immigration\n",
            "raid -----> raid\n",
            "history -----> history\n",
            "Immigration -----> Immigration\n",
            "Customs -----> Customs\n",
            "Enforcement -----> Enforcement\n",
            "’ -----> ’\n",
            "Homeland -----> Homeland\n",
            "Security -----> Security\n",
            "Investigations -----> Investigations\n",
            "wing -----> wing\n",
            ". -----> .\n",
            "In -----> In\n",
            "total -----> total\n",
            ", -----> ,\n",
            "operation -----> operation\n",
            "Hyundai -----> Hyundai\n",
            "Metaplant -----> Metaplant\n",
            "campus -----> campus\n",
            "near -----> near\n",
            "Savannah -----> Savannah\n",
            "netted -----> netted\n",
            "475 -----> 475\n",
            "arrests -----> arrest\n",
            "immigrants -----> immigrant\n",
            "working -----> working\n",
            "U.S. -----> U.S.\n",
            "without -----> without\n",
            "authorization -----> authorization\n",
            ", -----> ,\n",
            "majority -----> majority\n",
            "Korean -----> Korean\n",
            "nationals -----> national\n",
            ", -----> ,\n",
            "authorities -----> authority\n",
            "said -----> said\n",
            ". -----> .\n"
          ]
        }
      ]
    },
    {
      "cell_type": "code",
      "source": [
        "lemmatized_words"
      ],
      "metadata": {
        "colab": {
          "base_uri": "https://localhost:8080/"
        },
        "id": "tfUFjRifN-yp",
        "outputId": "7333fc57-2919-4fd2-b19c-70f7048c89ee"
      },
      "execution_count": 6,
      "outputs": [
        {
          "output_type": "execute_result",
          "data": {
            "text/plain": [
              "['In',\n",
              " 'total',\n",
              " ',',\n",
              " 'operation',\n",
              " 'Hyundai',\n",
              " 'Metaplant',\n",
              " 'campus',\n",
              " 'near',\n",
              " 'Savannah',\n",
              " 'netted',\n",
              " '475',\n",
              " 'arrest',\n",
              " 'immigrant',\n",
              " 'working',\n",
              " 'U.S.',\n",
              " 'without',\n",
              " 'authorization',\n",
              " ',',\n",
              " 'majority',\n",
              " 'Korean',\n",
              " 'national',\n",
              " ',',\n",
              " 'authority',\n",
              " 'said',\n",
              " '.']"
            ]
          },
          "metadata": {},
          "execution_count": 6
        }
      ]
    },
    {
      "cell_type": "code",
      "source": [
        "\" \".join(lemmatized_words)"
      ],
      "metadata": {
        "colab": {
          "base_uri": "https://localhost:8080/",
          "height": 36
        },
        "id": "R3y1qT_YNSNM",
        "outputId": "2c8e5635-9f88-44e8-e156-29e863ef5319"
      },
      "execution_count": 5,
      "outputs": [
        {
          "output_type": "execute_result",
          "data": {
            "text/plain": [
              "'In total , operation Hyundai Metaplant campus near Savannah netted 475 arrest immigrant working U.S. without authorization , majority Korean national , authority said .'"
            ],
            "application/vnd.google.colaboratory.intrinsic+json": {
              "type": "string"
            }
          },
          "metadata": {},
          "execution_count": 5
        }
      ]
    }
  ]
}
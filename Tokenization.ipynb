{
  "nbformat": 4,
  "nbformat_minor": 0,
  "metadata": {
    "colab": {
      "provenance": [],
      "authorship_tag": "ABX9TyP5dNDYi5MxEeWQElEsafsf"
    },
    "kernelspec": {
      "name": "python3",
      "display_name": "Python 3"
    },
    "language_info": {
      "name": "python"
    }
  },
  "cells": [
    {
      "cell_type": "code",
      "execution_count": 4,
      "metadata": {
        "colab": {
          "base_uri": "https://localhost:8080/"
        },
        "id": "tHzkDUQvx3mG",
        "outputId": "d9da014d-93fa-4d88-d727-2b0845c7de03"
      },
      "outputs": [
        {
          "output_type": "stream",
          "name": "stderr",
          "text": [
            "[nltk_data] Downloading package punkt_tab to /root/nltk_data...\n",
            "[nltk_data]   Unzipping tokenizers/punkt_tab.zip.\n"
          ]
        },
        {
          "output_type": "execute_result",
          "data": {
            "text/plain": [
              "True"
            ]
          },
          "metadata": {},
          "execution_count": 4
        }
      ],
      "source": [
        "import nltk\n",
        "\n",
        "nltk.download('punkt_tab')"
      ]
    },
    {
      "cell_type": "code",
      "source": [
        "paragraph = \"\"\"On Thursday, Georgia was the staging ground for the largest\n",
        "single site immigration raid in the history of Immigration and Customs\n",
        "Enforcement’s Homeland Security Investigations wing. In total, the operation at\n",
        "the Hyundai Metaplant campus near Savannah netted 475 arrests of immigrants\n",
        "working in the U.S. without authorization, the majority of whom were Korean\n",
        "nationals, authorities said.\n",
        "\"\"\"\n"
      ],
      "metadata": {
        "id": "WURkNzccyBMU"
      },
      "execution_count": 16,
      "outputs": []
    },
    {
      "cell_type": "code",
      "source": [
        "sentences = nltk.sent_tokenize(paragraph)\n",
        "\n",
        "sentences"
      ],
      "metadata": {
        "colab": {
          "base_uri": "https://localhost:8080/"
        },
        "id": "BXtj-gR6yp4i",
        "outputId": "4c0a1e95-d63a-4778-b434-c0c92c9ba59d"
      },
      "execution_count": 8,
      "outputs": [
        {
          "output_type": "execute_result",
          "data": {
            "text/plain": [
              "['On Thursday, Georgia was the staging ground for the largest \\nsingle site immigration raid in the history of Immigration and Customs \\nEnforcement’s Homeland Security Investigations wing.',\n",
              " 'In total, the operation at \\nthe Hyundai Metaplant campus near Savannah netted 475 arrests of immigrants \\nworking in the U.S. without authorization, the majority of whom were Korean \\nnationals, authorities said.']"
            ]
          },
          "metadata": {},
          "execution_count": 8
        }
      ]
    },
    {
      "cell_type": "code",
      "source": [
        "words = nltk.word_tokenize(paragraph)\n",
        "words"
      ],
      "metadata": {
        "colab": {
          "base_uri": "https://localhost:8080/"
        },
        "id": "2_js5CIM2RnE",
        "outputId": "2958379e-6d95-4bb7-e18b-f71f9d01fa6a"
      },
      "execution_count": 14,
      "outputs": [
        {
          "output_type": "execute_result",
          "data": {
            "text/plain": [
              "['On',\n",
              " 'Thursday',\n",
              " ',',\n",
              " 'Georgia',\n",
              " 'was',\n",
              " 'the',\n",
              " 'staging',\n",
              " 'ground',\n",
              " 'for',\n",
              " 'the',\n",
              " 'largest',\n",
              " 'single',\n",
              " 'site',\n",
              " 'immigration',\n",
              " 'raid',\n",
              " 'in',\n",
              " 'the',\n",
              " 'history',\n",
              " 'of',\n",
              " 'Immigration',\n",
              " 'and',\n",
              " 'Customs',\n",
              " 'Enforcement',\n",
              " '’',\n",
              " 's',\n",
              " 'Homeland',\n",
              " 'Security',\n",
              " 'Investigations',\n",
              " 'wing',\n",
              " '.',\n",
              " 'In',\n",
              " 'total',\n",
              " ',',\n",
              " 'the',\n",
              " 'operation',\n",
              " 'at',\n",
              " 'the',\n",
              " 'Hyundai',\n",
              " 'Metaplant',\n",
              " 'campus',\n",
              " 'near',\n",
              " 'Savannah',\n",
              " 'netted',\n",
              " '475',\n",
              " 'arrests',\n",
              " 'of',\n",
              " 'immigrants',\n",
              " 'working',\n",
              " 'in',\n",
              " 'the',\n",
              " 'U.S.',\n",
              " 'without',\n",
              " 'authorization',\n",
              " ',',\n",
              " 'the',\n",
              " 'majority',\n",
              " 'of',\n",
              " 'whom',\n",
              " 'were',\n",
              " 'Korean',\n",
              " 'nationals',\n",
              " ',',\n",
              " 'authorities',\n",
              " 'said',\n",
              " '.']"
            ]
          },
          "metadata": {},
          "execution_count": 14
        }
      ]
    }
  ]
}
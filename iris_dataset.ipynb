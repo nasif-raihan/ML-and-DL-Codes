{
  "nbformat": 4,
  "nbformat_minor": 0,
  "metadata": {
    "colab": {
      "name": "iris_dataset.ipynb",
      "provenance": [],
      "authorship_tag": "ABX9TyOpBNgjYTCpivpKbSXzuj5o",
      "include_colab_link": true
    },
    "kernelspec": {
      "name": "python3",
      "display_name": "Python 3"
    },
    "language_info": {
      "name": "python"
    }
  },
  "cells": [
    {
      "cell_type": "markdown",
      "metadata": {
        "id": "view-in-github",
        "colab_type": "text"
      },
      "source": [
        "<a href=\"https://colab.research.google.com/github/nasif-raihan/Ml-and-DL-Codes/blob/main/iris_dataset.ipynb\" target=\"_parent\"><img src=\"https://colab.research.google.com/assets/colab-badge.svg\" alt=\"Open In Colab\"/></a>"
      ]
    },
    {
      "cell_type": "code",
      "metadata": {
        "id": "TKHidlzTKdEj"
      },
      "source": [
        "import math\n",
        "import numpy as np\n",
        "import pandas as pd\n",
        "import matplotlib.pyplot as plt\n",
        "from sklearn import datasets\n",
        "from sklearn.model_selection import train_test_split\n",
        "from sklearn.metrics import confusion_matrix, accuracy_score, mean_squared_error\n",
        "\n",
        "%matplotlib inline"
      ],
      "execution_count": null,
      "outputs": []
    },
    {
      "cell_type": "code",
      "metadata": {
        "colab": {
          "base_uri": "https://localhost:8080/"
        },
        "id": "HsO8RqetKzhS",
        "outputId": "004f2148-bf8c-46cb-848e-4af01805dc14"
      },
      "source": [
        "iris = datasets.load_iris()\n",
        "\n",
        "print(iris.keys())"
      ],
      "execution_count": null,
      "outputs": [
        {
          "output_type": "stream",
          "text": [
            "dict_keys(['data', 'target', 'target_names', 'DESCR', 'feature_names', 'filename'])\n"
          ],
          "name": "stdout"
        }
      ]
    },
    {
      "cell_type": "code",
      "metadata": {
        "colab": {
          "base_uri": "https://localhost:8080/"
        },
        "id": "S0wyEo9lL7aF",
        "outputId": "3ad3f589-f2d6-4e6c-89b0-5748023e5979"
      },
      "source": [
        "print(iris.feature_names)\n",
        "print(iris.data.shape, iris.target.shape)"
      ],
      "execution_count": null,
      "outputs": [
        {
          "output_type": "stream",
          "text": [
            "['sepal length (cm)', 'sepal width (cm)', 'petal length (cm)', 'petal width (cm)']\n",
            "(150, 4) (150,)\n"
          ],
          "name": "stdout"
        }
      ]
    },
    {
      "cell_type": "code",
      "metadata": {
        "id": "1Z1i9BfCKzjg"
      },
      "source": [
        "X = iris.data\n",
        "y = iris.target\n",
        "\n",
        "X_train, X_test, y_train, y_test = train_test_split(X, y, test_size = .25)"
      ],
      "execution_count": null,
      "outputs": []
    },
    {
      "cell_type": "code",
      "metadata": {
        "colab": {
          "base_uri": "https://localhost:8080/"
        },
        "id": "IxIyoDg6KznX",
        "outputId": "e864b06b-227d-4726-d92c-4b0644f30fa3"
      },
      "source": [
        "print(X_train.shape, y_train.shape)"
      ],
      "execution_count": null,
      "outputs": [
        {
          "output_type": "stream",
          "text": [
            "(112, 4) (112,)\n"
          ],
          "name": "stdout"
        }
      ]
    },
    {
      "cell_type": "code",
      "metadata": {
        "id": "5Ma5G1X6KzqR"
      },
      "source": [
        "#print(iris.data)"
      ],
      "execution_count": null,
      "outputs": []
    },
    {
      "cell_type": "markdown",
      "metadata": {
        "id": "SDmAb4sjMiHp"
      },
      "source": [
        "**Linear Regression**"
      ]
    },
    {
      "cell_type": "code",
      "metadata": {
        "id": "Vzjrc7wrKzri"
      },
      "source": [
        "from sklearn.linear_model import LinearRegression"
      ],
      "execution_count": null,
      "outputs": []
    },
    {
      "cell_type": "code",
      "metadata": {
        "colab": {
          "base_uri": "https://localhost:8080/"
        },
        "id": "bXTH2sRMSjx4",
        "outputId": "4013d2c3-0166-41ad-806c-54a03b7d74b2"
      },
      "source": [
        "a = np.array(iris.data[:,0]).reshape(-1, 1)\n",
        "b = np.array(iris.data[:,3]).reshape(-1, 1)\n",
        "\n",
        "print(a.shape, b.shape)"
      ],
      "execution_count": null,
      "outputs": [
        {
          "output_type": "stream",
          "text": [
            "(150, 1) (150, 1)\n"
          ],
          "name": "stdout"
        }
      ]
    },
    {
      "cell_type": "code",
      "metadata": {
        "id": "QK_5J8wFKzuy",
        "colab": {
          "base_uri": "https://localhost:8080/"
        },
        "outputId": "f2c486c9-913f-485c-da8f-ffb0795ddb10"
      },
      "source": [
        "\n",
        "\n",
        "a_train, a_test, b_train, b_test = train_test_split(a, b, test_size=0.25)\n",
        "model = LinearRegression()\n",
        "model.fit(a_train, b_train)\n",
        "\n",
        "prediction = model.predict(a_test)      #RESHAAPE?????\n",
        "\n",
        "print(prediction)\n",
        "print(b_test)\n",
        "\n",
        "print(\"\\n1. R squared value of the model: \", model.score(a_test, b_test))"
      ],
      "execution_count": null,
      "outputs": [
        {
          "output_type": "stream",
          "text": [
            "[[1.32669361]\n",
            " [1.09460193]\n",
            " [0.63041857]\n",
            " [0.93987414]\n",
            " [0.08887132]\n",
            " [0.08887132]\n",
            " [2.10033254]\n",
            " [0.70778246]\n",
            " [1.24932971]\n",
            " [2.02296864]\n",
            " [0.16623521]\n",
            " [2.79660757]\n",
            " [1.01723804]\n",
            " [0.63041857]\n",
            " [0.93987414]\n",
            " [0.86251025]\n",
            " [1.71351307]\n",
            " [1.63614918]\n",
            " [1.86824086]\n",
            " [1.71351307]\n",
            " [2.25506032]\n",
            " [0.47569079]\n",
            " [1.4040575 ]\n",
            " [1.32669361]\n",
            " [1.01723804]\n",
            " [2.02296864]\n",
            " [0.47569079]\n",
            " [1.79087697]\n",
            " [1.55878529]\n",
            " [1.4040575 ]\n",
            " [1.09460193]\n",
            " [1.17196582]\n",
            " [1.09460193]\n",
            " [1.17196582]\n",
            " [0.78514636]\n",
            " [1.63614918]\n",
            " [0.86251025]\n",
            " [1.48142139]]\n",
            "[[1.5]\n",
            " [1.3]\n",
            " [0.4]\n",
            " [1.1]\n",
            " [0.2]\n",
            " [0.2]\n",
            " [1.4]\n",
            " [0.2]\n",
            " [1.8]\n",
            " [1.5]\n",
            " [0.3]\n",
            " [2. ]\n",
            " [1.3]\n",
            " [0.2]\n",
            " [0.2]\n",
            " [1.5]\n",
            " [2. ]\n",
            " [2.2]\n",
            " [1.4]\n",
            " [2.2]\n",
            " [1.6]\n",
            " [0.2]\n",
            " [1.8]\n",
            " [1.5]\n",
            " [1.3]\n",
            " [2.1]\n",
            " [0.1]\n",
            " [1.3]\n",
            " [1.5]\n",
            " [1.3]\n",
            " [2. ]\n",
            " [1.9]\n",
            " [1.2]\n",
            " [0.2]\n",
            " [0.2]\n",
            " [1.9]\n",
            " [0.4]\n",
            " [2.3]]\n",
            "\n",
            "1. R squared value of the model:  0.5427102713444623\n"
          ],
          "name": "stdout"
        }
      ]
    },
    {
      "cell_type": "code",
      "metadata": {
        "id": "cC_NMvg7Kzzm",
        "colab": {
          "base_uri": "https://localhost:8080/",
          "height": 315
        },
        "outputId": "353ab675-0e92-4d55-8e6a-1bf2a96b3008"
      },
      "source": [
        "print(model.coef_)\n",
        "print(model.intercept_)\n",
        "\n",
        "plt.scatter(a_test, b_test, color=\"green\")\n",
        "plt.plot(a_test, model.predict(a_test), color=\"red\")\n",
        "plt.xlabel('Sepal Length')\n",
        "plt.ylabel('Petal Length')\n",
        "plt.show()"
      ],
      "execution_count": null,
      "outputs": [
        {
          "output_type": "stream",
          "text": [
            "[[0.77363893]]\n",
            "[-3.31513997]\n"
          ],
          "name": "stdout"
        },
        {
          "output_type": "display_data",
          "data": {
            "image/png": "[encoded data removed]",
            "text/plain": [
              "<Figure size 432x288 with 1 Axes>"
            ]
          },
          "metadata": {
            "tags": [],
            "needs_background": "light"
          }
        }
      ]
    },
    {
      "cell_type": "markdown",
      "metadata": {
        "id": "sd4yTEElQl1g"
      },
      "source": [
        "**Logistic Regression**"
      ]
    },
    {
      "cell_type": "code",
      "metadata": {
        "id": "Uges96HyKzwx"
      },
      "source": [
        "from sklearn.linear_model import LogisticRegression"
      ],
      "execution_count": null,
      "outputs": []
    },
    {
      "cell_type": "code",
      "metadata": {
        "colab": {
          "base_uri": "https://localhost:8080/"
        },
        "id": "n51riXCaKz2T",
        "outputId": "9a246055-62e1-44db-e98c-0affc13f6f4f"
      },
      "source": [
        "model = LogisticRegression()\n",
        "model.fit(X_train, y_train)\n",
        "\n",
        "prediction = model.predict(X_test)\n",
        "\n",
        "print(prediction)\n",
        "print(y_test)\n",
        "\n",
        "\n",
        "print(\"\\n1. Accuracy of the model: \", accuracy_score(y_test, prediction))\n",
        "print(\"2. Confusion Matrix of the model: \\n\", confusion_matrix(y_test, prediction))\n",
        "print(\"3. Mean square error of the model: \", mean_squared_error(y_test, prediction))\n",
        "\n",
        "print(\"\\n\")"
      ],
      "execution_count": null,
      "outputs": [
        {
          "output_type": "stream",
          "text": [
            "[2 2 2 2 0 2 0 1 2 2 1 0 0 1 2 0 1 2 1 1 1 0 0 0 1 0 2 0 0 0 1 0 2 2 0 1 0\n",
            " 2]\n",
            "[2 1 2 2 0 2 0 1 2 2 1 0 0 2 2 0 1 2 1 1 1 0 0 0 1 0 2 0 0 0 1 0 2 2 0 1 0\n",
            " 2]\n",
            "\n",
            "1. Accuracy of the model:  0.9473684210526315\n",
            "2. Confusion Matrix of the model: \n",
            " [[15  0  0]\n",
            " [ 0  9  1]\n",
            " [ 0  1 12]]\n",
            "3. Mean square error of the model:  0.05263157894736842\n",
            "\n",
            "\n"
          ],
          "name": "stdout"
        }
      ]
    },
    {
      "cell_type": "markdown",
      "metadata": {
        "id": "ik3W2_RibsOL"
      },
      "source": [
        "**K Nearest Neighbor**"
      ]
    },
    {
      "cell_type": "code",
      "metadata": {
        "id": "Z-vHk1fTbww5"
      },
      "source": [
        "from sklearn.neighbors import KNeighborsClassifier\n",
        "from sklearn.model_selection import cross_val_score"
      ],
      "execution_count": null,
      "outputs": []
    },
    {
      "cell_type": "code",
      "metadata": {
        "id": "p2Qh9LD9hdxp",
        "colab": {
          "base_uri": "https://localhost:8080/"
        },
        "outputId": "21b94ed3-d269-4925-df97-462b005e1a0a"
      },
      "source": [
        "k_scores = []\n",
        "\n",
        "for k in range(1, 31):\n",
        "  model = KNeighborsClassifier(n_neighbors = k)\n",
        "  scores = cross_val_score(model, X, y, cv=10, scoring='accuracy')\n",
        "  k_scores.append(scores.mean())\n",
        "\n",
        "print(k_scores)"
      ],
      "execution_count": null,
      "outputs": [
        {
          "output_type": "stream",
          "text": [
            "[0.96, 0.9533333333333334, 0.9666666666666666, 0.9666666666666666, 0.9666666666666668, 0.9666666666666668, 0.9666666666666668, 0.9666666666666668, 0.9733333333333334, 0.9666666666666668, 0.9666666666666668, 0.9733333333333334, 0.9800000000000001, 0.9733333333333334, 0.9733333333333334, 0.9733333333333334, 0.9733333333333334, 0.9800000000000001, 0.9733333333333334, 0.9800000000000001, 0.9666666666666666, 0.9666666666666666, 0.9733333333333334, 0.96, 0.9666666666666666, 0.96, 0.9666666666666666, 0.9533333333333334, 0.9533333333333334, 0.9533333333333334]\n"
          ],
          "name": "stdout"
        }
      ]
    },
    {
      "cell_type": "code",
      "metadata": {
        "colab": {
          "base_uri": "https://localhost:8080/",
          "height": 297
        },
        "id": "bR5r4qB9Nolo",
        "outputId": "0243e4ac-26e2-4a9f-a137-6c9f9b340d04"
      },
      "source": [
        "plt.plot(range(1,31), k_scores)\n",
        "plt.xlabel(\"k for KNN\")\n",
        "plt.ylabel(\"Cross validation accuracy\")"
      ],
      "execution_count": null,
      "outputs": [
        {
          "output_type": "execute_result",
          "data": {
            "text/plain": [
              "Text(0, 0.5, 'Cross validation accuracy')"
            ]
          },
          "metadata": {
            "tags": []
          },
          "execution_count": 15
        },
        {
          "output_type": "display_data",
          "data": {
            "image/png": "[encoded data removed]",
            "text/plain": [
              "<Figure size 432x288 with 1 Axes>"
            ]
          },
          "metadata": {
            "tags": [],
            "needs_background": "light"
          }
        }
      ]
    },
    {
      "cell_type": "code",
      "metadata": {
        "id": "_SEU7gs_hd1E",
        "colab": {
          "base_uri": "https://localhost:8080/"
        },
        "outputId": "4f96aa62-0928-445b-b7a1-caab61b8f9a2"
      },
      "source": [
        "max = -1\n",
        "\n",
        "for k in range(1, 31):\n",
        "  if k_scores[k-1] >= max:\n",
        "    max = k_scores[k-1]\n",
        "    neighbor = k\n",
        "\n",
        "print(max, neighbor)"
      ],
      "execution_count": null,
      "outputs": [
        {
          "output_type": "stream",
          "text": [
            "0.9800000000000001 20\n"
          ],
          "name": "stdout"
        }
      ]
    },
    {
      "cell_type": "code",
      "metadata": {
        "id": "9IG-l_iuPStK"
      },
      "source": [
        "model = KNeighborsClassifier(n_neighbors=neighbor)\n",
        "model.fit(X_train, y_train)\n",
        "\n",
        "prediction = model.predict(X_test)\n"
      ],
      "execution_count": null,
      "outputs": []
    },
    {
      "cell_type": "code",
      "metadata": {
        "colab": {
          "base_uri": "https://localhost:8080/"
        },
        "id": "diZcApxdOUMs",
        "outputId": "16462bea-050c-4a56-f0f2-61490b6fb91b"
      },
      "source": [
        "print(\"\\n1. Accuracy of the model: \", accuracy_score(y_test, prediction))\n",
        "print(\"2. Confusion Matrix of the model: \\n\", confusion_matrix(y_test, prediction))\n",
        "print(\"3. Mean square error of the model: \", mean_squared_error(y_test, prediction))\n",
        "\n",
        "print(\"\\n\")"
      ],
      "execution_count": null,
      "outputs": [
        {
          "output_type": "stream",
          "text": [
            "\n",
            "1. Accuracy of the model:  0.9210526315789473\n",
            "2. Confusion Matrix of the model: \n",
            " [[15  0  0]\n",
            " [ 0  8  2]\n",
            " [ 0  1 12]]\n",
            "3. Mean square error of the model:  0.07894736842105263\n",
            "\n",
            "\n"
          ],
          "name": "stdout"
        }
      ]
    }
  ]
}
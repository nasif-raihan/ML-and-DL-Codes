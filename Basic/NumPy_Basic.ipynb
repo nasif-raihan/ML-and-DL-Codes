{
  "nbformat": 4,
  "nbformat_minor": 0,
  "metadata": {
    "colab": {
      "name": "NumPy_Basic.ipynb",
      "provenance": [],
      "authorship_tag": "ABX9TyMP3vadZh/ZhpKWv621XIbk",
      "include_colab_link": true
    },
    "kernelspec": {
      "name": "python3",
      "display_name": "Python 3"
    },
    "language_info": {
      "name": "python"
    }
  },
  "cells": [
    {
      "cell_type": "markdown",
      "metadata": {
        "id": "view-in-github",
        "colab_type": "text"
      },
      "source": [
        "<a href=\"https://colab.research.google.com/github/nasif-raihan/Ml-and-DL-Codes/blob/main/NumPy_Basic.ipynb\" target=\"_parent\"><img src=\"https://colab.research.google.com/assets/colab-badge.svg\" alt=\"Open In Colab\"/></a>"
      ]
    },
    {
      "cell_type": "code",
      "metadata": {
        "id": "a7tSVwdVjW6N"
      },
      "source": [
        "import numpy as np"
      ],
      "execution_count": null,
      "outputs": []
    },
    {
      "cell_type": "markdown",
      "metadata": {
        "id": "V35PJ6OunjUS"
      },
      "source": [
        "**BASIC**"
      ]
    },
    {
      "cell_type": "code",
      "metadata": {
        "colab": {
          "base_uri": "https://localhost:8080/"
        },
        "id": "mOth8zhslRKZ",
        "outputId": "4a4f447e-c67e-4450-9fc7-0c4b7977feb6"
      },
      "source": [
        "#Multiplication\n",
        "a = np.array([1,2,3])\n",
        "b = np.array([2,3,4])\n",
        "\n",
        "a*b "
      ],
      "execution_count": null,
      "outputs": [
        {
          "output_type": "execute_result",
          "data": {
            "text/plain": [
              "array([ 2,  6, 12])"
            ]
          },
          "metadata": {
            "tags": []
          },
          "execution_count": 3
        }
      ]
    },
    {
      "cell_type": "code",
      "metadata": {
        "colab": {
          "base_uri": "https://localhost:8080/"
        },
        "id": "tW8ElXytliES",
        "outputId": "d151fca0-7693-41f9-abc5-11f22ba0c094"
      },
      "source": [
        "#Dimension\n",
        "a = np.array([[[1,2], [2,3], [3,4]]])\n",
        "a.ndim"
      ],
      "execution_count": null,
      "outputs": [
        {
          "output_type": "execute_result",
          "data": {
            "text/plain": [
              "3"
            ]
          },
          "metadata": {
            "tags": []
          },
          "execution_count": 12
        }
      ]
    },
    {
      "cell_type": "code",
      "metadata": {
        "colab": {
          "base_uri": "https://localhost:8080/"
        },
        "id": "3i3k1dWImBML",
        "outputId": "8a7a6a2a-d2b9-48c6-d5b9-ac3d4ec61edd"
      },
      "source": [
        "#Shape\n",
        "a.shape"
      ],
      "execution_count": null,
      "outputs": [
        {
          "output_type": "execute_result",
          "data": {
            "text/plain": [
              "(1, 3, 2)"
            ]
          },
          "metadata": {
            "tags": []
          },
          "execution_count": 13
        }
      ]
    },
    {
      "cell_type": "code",
      "metadata": {
        "colab": {
          "base_uri": "https://localhost:8080/"
        },
        "id": "a54cEWI6mYm0",
        "outputId": "7ea2d383-0fce-4d3a-8691-d9beacb8d289"
      },
      "source": [
        "#Type\n",
        "\n",
        "a.dtype"
      ],
      "execution_count": null,
      "outputs": [
        {
          "output_type": "execute_result",
          "data": {
            "text/plain": [
              "dtype('int64')"
            ]
          },
          "metadata": {
            "tags": []
          },
          "execution_count": 14
        }
      ]
    },
    {
      "cell_type": "code",
      "metadata": {
        "colab": {
          "base_uri": "https://localhost:8080/"
        },
        "id": "i343DOkSmfat",
        "outputId": "68a0fd28-e445-46ee-a48c-d32a64a5ffe8"
      },
      "source": [
        "#Size\n",
        "print(a.itemsize, end=\" \")\n",
        "a = np.array([[2,3], [3,4]],dtype='int16')\n",
        "a.itemsize"
      ],
      "execution_count": null,
      "outputs": [
        {
          "output_type": "stream",
          "text": [
            "2 "
          ],
          "name": "stdout"
        },
        {
          "output_type": "execute_result",
          "data": {
            "text/plain": [
              "2"
            ]
          },
          "metadata": {
            "tags": []
          },
          "execution_count": 18
        }
      ]
    },
    {
      "cell_type": "code",
      "metadata": {
        "colab": {
          "base_uri": "https://localhost:8080/"
        },
        "id": "ZedjClKtmfcv",
        "outputId": "3bbca3c3-8e37-4d04-92d3-799790ed4d91"
      },
      "source": [
        "#Total size\n",
        "\n",
        "a.nbytes"
      ],
      "execution_count": null,
      "outputs": [
        {
          "output_type": "execute_result",
          "data": {
            "text/plain": [
              "8"
            ]
          },
          "metadata": {
            "tags": []
          },
          "execution_count": 19
        }
      ]
    },
    {
      "cell_type": "markdown",
      "metadata": {
        "id": "uB3pljgCnsNI"
      },
      "source": [
        "**Accessing/Changing specific elements, rows, columns etc**"
      ]
    },
    {
      "cell_type": "code",
      "metadata": {
        "colab": {
          "base_uri": "https://localhost:8080/"
        },
        "id": "1uJXpmtDmff6",
        "outputId": "3e2d3a0c-a0f9-48b7-b7f9-a25527d46658"
      },
      "source": [
        "a = np.array([[1,2,3,4], [7,6,5,4]])\n",
        "print(a)"
      ],
      "execution_count": null,
      "outputs": [
        {
          "output_type": "stream",
          "text": [
            "[[1 2 3 4]\n",
            " [7 6 5 4]]\n"
          ],
          "name": "stdout"
        }
      ]
    },
    {
      "cell_type": "code",
      "metadata": {
        "colab": {
          "base_uri": "https://localhost:8080/"
        },
        "id": "i3ZuBfSemfh7",
        "outputId": "37a0517d-b453-40d1-d83c-e3940b41edd3"
      },
      "source": [
        "#Get specific element\n",
        "\n",
        "a[1,-3]"
      ],
      "execution_count": null,
      "outputs": [
        {
          "output_type": "execute_result",
          "data": {
            "text/plain": [
              "6"
            ]
          },
          "metadata": {
            "tags": []
          },
          "execution_count": 25
        }
      ]
    },
    {
      "cell_type": "code",
      "metadata": {
        "colab": {
          "base_uri": "https://localhost:8080/"
        },
        "id": "bCZ2W6Fomfkj",
        "outputId": "78c292bb-830d-4107-c05f-dbdc8de9fc6c"
      },
      "source": [
        "#get specific row\n",
        "\n",
        "a[0, :]"
      ],
      "execution_count": null,
      "outputs": [
        {
          "output_type": "execute_result",
          "data": {
            "text/plain": [
              "array([1, 2, 3, 4])"
            ]
          },
          "metadata": {
            "tags": []
          },
          "execution_count": 26
        }
      ]
    },
    {
      "cell_type": "code",
      "metadata": {
        "colab": {
          "base_uri": "https://localhost:8080/"
        },
        "id": "4ixskCLgmfmq",
        "outputId": "1d905496-3858-4fb3-8262-9d3eba2dd9d1"
      },
      "source": [
        "#get specific column\n",
        "\n",
        "a[:, 0]"
      ],
      "execution_count": null,
      "outputs": [
        {
          "output_type": "execute_result",
          "data": {
            "text/plain": [
              "array([1, 7])"
            ]
          },
          "metadata": {
            "tags": []
          },
          "execution_count": 27
        }
      ]
    },
    {
      "cell_type": "code",
      "metadata": {
        "colab": {
          "base_uri": "https://localhost:8080/"
        },
        "id": "jMd9wehnmfo-",
        "outputId": "fd4cbf26-34a9-446d-c772-4f8789030861"
      },
      "source": [
        "a[0, 1:3]"
      ],
      "execution_count": null,
      "outputs": [
        {
          "output_type": "execute_result",
          "data": {
            "text/plain": [
              "array([2, 3])"
            ]
          },
          "metadata": {
            "tags": []
          },
          "execution_count": 28
        }
      ]
    },
    {
      "cell_type": "code",
      "metadata": {
        "colab": {
          "base_uri": "https://localhost:8080/"
        },
        "id": "8Os3gXLVmfr0",
        "outputId": "9bb08718-3c01-49c6-9032-04148d448d81"
      },
      "source": [
        "#replacing\n",
        "a[:, 1] = [9, 9]\n",
        "\n",
        "a"
      ],
      "execution_count": null,
      "outputs": [
        {
          "output_type": "execute_result",
          "data": {
            "text/plain": [
              "array([[1, 9, 3, 4],\n",
              "       [7, 9, 5, 4]])"
            ]
          },
          "metadata": {
            "tags": []
          },
          "execution_count": 32
        }
      ]
    },
    {
      "cell_type": "markdown",
      "metadata": {
        "id": "TfiGYnbSp57U"
      },
      "source": [
        "**Initializing Different types of Arrays**"
      ]
    },
    {
      "cell_type": "code",
      "metadata": {
        "colab": {
          "base_uri": "https://localhost:8080/"
        },
        "id": "OL4dkUVBp2OS",
        "outputId": "87282740-ed08-4485-ae46-7d7d97c2cbe2"
      },
      "source": [
        "#Zero\n",
        "\n",
        "a = np.zeros((2,3))\n",
        "\n",
        "a"
      ],
      "execution_count": null,
      "outputs": [
        {
          "output_type": "execute_result",
          "data": {
            "text/plain": [
              "array([[0., 0., 0.],\n",
              "       [0., 0., 0.]])"
            ]
          },
          "metadata": {
            "tags": []
          },
          "execution_count": 35
        }
      ]
    },
    {
      "cell_type": "code",
      "metadata": {
        "colab": {
          "base_uri": "https://localhost:8080/"
        },
        "id": "mV9FuoHwqTRb",
        "outputId": "f8f5fc13-6665-4160-f473-b4a306160dcc"
      },
      "source": [
        "#One\n",
        "\n",
        "b = np.ones((4, 2, 2), dtype='int32')\n",
        "\n",
        "b"
      ],
      "execution_count": null,
      "outputs": [
        {
          "output_type": "execute_result",
          "data": {
            "text/plain": [
              "array([[[1, 1],\n",
              "        [1, 1]],\n",
              "\n",
              "       [[1, 1],\n",
              "        [1, 1]],\n",
              "\n",
              "       [[1, 1],\n",
              "        [1, 1]],\n",
              "\n",
              "       [[1, 1],\n",
              "        [1, 1]]], dtype=int32)"
            ]
          },
          "metadata": {
            "tags": []
          },
          "execution_count": 37
        }
      ]
    },
    {
      "cell_type": "code",
      "metadata": {
        "colab": {
          "base_uri": "https://localhost:8080/"
        },
        "id": "Rany_FMLqTS_",
        "outputId": "441b2e1d-7f35-4319-d19d-9233afad142f"
      },
      "source": [
        "#any other value\n",
        "\n",
        "c = np.full((2,2), 'f')\n",
        "\n",
        "c"
      ],
      "execution_count": null,
      "outputs": [
        {
          "output_type": "execute_result",
          "data": {
            "text/plain": [
              "array([['f', 'f'],\n",
              "       ['f', 'f']], dtype='<U1')"
            ]
          },
          "metadata": {
            "tags": []
          },
          "execution_count": 41
        }
      ]
    },
    {
      "cell_type": "code",
      "metadata": {
        "colab": {
          "base_uri": "https://localhost:8080/"
        },
        "id": "J_iVny_tqTW7",
        "outputId": "f9a77d78-0068-40a1-b526-12ccb3bad277"
      },
      "source": [
        "#Random decimal value\n",
        "\n",
        "r = np.random.rand(4, 2)  #no tuple\n",
        "\n",
        "r"
      ],
      "execution_count": null,
      "outputs": [
        {
          "output_type": "execute_result",
          "data": {
            "text/plain": [
              "array([[0.6309592 , 0.77186933],\n",
              "       [0.99719744, 0.85545358],\n",
              "       [0.43839121, 0.93473168],\n",
              "       [0.05833995, 0.3583787 ]])"
            ]
          },
          "metadata": {
            "tags": []
          },
          "execution_count": 42
        }
      ]
    },
    {
      "cell_type": "code",
      "metadata": {
        "colab": {
          "base_uri": "https://localhost:8080/"
        },
        "id": "U9SKPjpKqTYq",
        "outputId": "90af1bab-f508-43f5-a493-c0a75fb732ea"
      },
      "source": [
        "#Random Integer value\n",
        "\n",
        "r = np.random.randint(4, size= (3, 3))\n",
        "\n",
        "print(r)\n",
        "\n",
        "r = np.random.randint(3,5, size=(3,4))  #5 exclusive here\n",
        "\n",
        "print(\"\\nFrom 3 to 4 values ony: \\n\", r)"
      ],
      "execution_count": null,
      "outputs": [
        {
          "output_type": "stream",
          "text": [
            "[[3 3 1]\n",
            " [1 1 2]\n",
            " [3 2 0]]\n",
            "\n",
            "From 3 to 4 values ony: \n",
            " [[3 4 4 4]\n",
            " [4 4 4 3]\n",
            " [4 3 3 4]]\n"
          ],
          "name": "stdout"
        }
      ]
    },
    {
      "cell_type": "code",
      "metadata": {
        "colab": {
          "base_uri": "https://localhost:8080/"
        },
        "id": "VaTozuLRqTbQ",
        "outputId": "3a50147f-cdca-483d-cfac-dbaa21726ebc"
      },
      "source": [
        "#Identity matrix\n",
        "\n",
        "np.identity(3)"
      ],
      "execution_count": null,
      "outputs": [
        {
          "output_type": "execute_result",
          "data": {
            "text/plain": [
              "array([[1., 0., 0.],\n",
              "       [0., 1., 0.],\n",
              "       [0., 0., 1.]])"
            ]
          },
          "metadata": {
            "tags": []
          },
          "execution_count": 54
        }
      ]
    },
    {
      "cell_type": "code",
      "metadata": {
        "colab": {
          "base_uri": "https://localhost:8080/"
        },
        "id": "L9MCBfxUqTea",
        "outputId": "d8591040-4ea9-4bf2-dafa-ca4a7cb812e5"
      },
      "source": [
        "#Repeat an Array\n",
        "\n",
        "arr = np.array([1,2,3])\n",
        "r1 = np.repeat(arr, 3) #axis = 0\n",
        "\n",
        "print(r1)\n",
        "\n",
        "arr = np.array([[1, 2, 3]])\n",
        "r2 = np.repeat(arr, 3, axis = 0)\n",
        "r3 = np.repeat(arr, 3, axis = 1)\n",
        "\n",
        "print(\"\\n\", r2)\n",
        "print(\"\\n\", r3)"
      ],
      "execution_count": null,
      "outputs": [
        {
          "output_type": "stream",
          "text": [
            "[1 1 1 2 2 2 3 3 3]\n",
            "\n",
            " [[1 2 3]\n",
            " [1 2 3]\n",
            " [1 2 3]]\n",
            "\n",
            " [[1 1 1 2 2 2 3 3 3]]\n"
          ],
          "name": "stdout"
        }
      ]
    },
    {
      "cell_type": "markdown",
      "metadata": {
        "id": "6qfk7-VhvRfY"
      },
      "source": [
        "**Build this array:** \n",
        "       [[1., 1., 1., 1., 1.],\n",
        "       [1., 0., 0., 0., 1.],\n",
        "       [1., 0., 9., 0., 1.],\n",
        "       [1., 0., 0., 0., 1.],\n",
        "       [1., 1., 1., 1., 1.]] "
      ]
    },
    {
      "cell_type": "code",
      "metadata": {
        "colab": {
          "base_uri": "https://localhost:8080/"
        },
        "id": "qvr1UiPYuNCP",
        "outputId": "6498fdbb-180e-4d45-ba62-3ba809881b28"
      },
      "source": [
        "o = np.ones((5,5))\n",
        "z = np.zeros((3,3))\n",
        "\n",
        "#print(o, \"\\n\\n\", z, \"\\n\")\n",
        "\n",
        "z[1, 1] = 9\n",
        "\n",
        "output = o\n",
        "\n",
        "output[1:4, 1:4] = z\n",
        "\n",
        "output"
      ],
      "execution_count": null,
      "outputs": [
        {
          "output_type": "execute_result",
          "data": {
            "text/plain": [
              "array([[1., 1., 1., 1., 1.],\n",
              "       [1., 0., 0., 0., 1.],\n",
              "       [1., 0., 9., 0., 1.],\n",
              "       [1., 0., 0., 0., 1.],\n",
              "       [1., 1., 1., 1., 1.]])"
            ]
          },
          "metadata": {
            "tags": []
          },
          "execution_count": 74
        }
      ]
    },
    {
      "cell_type": "markdown",
      "metadata": {
        "id": "GAhAONc7P4eC"
      },
      "source": [
        "**Be careful while copying Arrays**"
      ]
    },
    {
      "cell_type": "code",
      "metadata": {
        "colab": {
          "base_uri": "https://localhost:8080/"
        },
        "id": "4r1pRgP_P9mS",
        "outputId": "258ef7ba-fb01-4326-f9ba-7876167747f2"
      },
      "source": [
        "a = np.array([1, 2, 3])\n",
        "\n",
        "b = a.copy()\n",
        "\n",
        "b[0] = 10\n",
        "\n",
        "print(b, \"\\n\", a)"
      ],
      "execution_count": null,
      "outputs": [
        {
          "output_type": "stream",
          "text": [
            "[10  2  3] \n",
            " [1 2 3]\n"
          ],
          "name": "stdout"
        }
      ]
    },
    {
      "cell_type": "markdown",
      "metadata": {
        "id": "W3e2FoveRJrt"
      },
      "source": [
        "**Mathematics**"
      ]
    },
    {
      "cell_type": "code",
      "metadata": {
        "colab": {
          "base_uri": "https://localhost:8080/"
        },
        "id": "nZAvnPJyRMPW",
        "outputId": "07a95402-c305-408c-e5ea-5db12d3be7a2"
      },
      "source": [
        "print(a)\n",
        "print(a + 2)\n",
        "print(a - 4)\n",
        "print(a * 2)\n",
        "print(a / 2)\n",
        "print(a ** 2)\n",
        "print(np.cos(a))\n",
        "print(a + b)"
      ],
      "execution_count": null,
      "outputs": [
        {
          "output_type": "stream",
          "text": [
            "[1 2 3]\n",
            "[3 4 5]\n",
            "[-3 -2 -1]\n",
            "[2 4 6]\n",
            "[0.5 1.  1.5]\n",
            "[1 4 9]\n",
            "[ 0.54030231 -0.41614684 -0.9899925 ]\n",
            "[11  4  6]\n"
          ],
          "name": "stdout"
        }
      ]
    },
    {
      "cell_type": "markdown",
      "metadata": {
        "id": "WgLV1y0ySa6_"
      },
      "source": [
        "**Linear Algebra**"
      ]
    },
    {
      "cell_type": "code",
      "metadata": {
        "colab": {
          "base_uri": "https://localhost:8080/"
        },
        "id": "u7nPj5UVRpT_",
        "outputId": "c09b006a-294a-4496-ae60-109a964e06d1"
      },
      "source": [
        "#matrix multiplication\n",
        "\n",
        "a = np.full((2,2), 3)\n",
        "print(a, \"\\n\\n\")\n",
        "b = np.full((2, 1), 4)\n",
        "print(b, \"\\n\\n\")\n",
        "np.matmul(a, b)"
      ],
      "execution_count": null,
      "outputs": [
        {
          "output_type": "stream",
          "text": [
            "[[3 3]\n",
            " [3 3]] \n",
            "\n",
            "\n",
            "[[4]\n",
            " [4]] \n",
            "\n",
            "\n"
          ],
          "name": "stdout"
        },
        {
          "output_type": "execute_result",
          "data": {
            "text/plain": [
              "array([[24],\n",
              "       [24]])"
            ]
          },
          "metadata": {
            "tags": []
          },
          "execution_count": 23
        }
      ]
    },
    {
      "cell_type": "code",
      "metadata": {
        "colab": {
          "base_uri": "https://localhost:8080/"
        },
        "id": "7ZxKKHqVTDXT",
        "outputId": "dcdf76ab-feaf-43a4-ffc5-a47543d4e7ea"
      },
      "source": [
        "#Determinant\n",
        "\n",
        "c = np.identity(3)\n",
        "np.linalg.det(c)"
      ],
      "execution_count": null,
      "outputs": [
        {
          "output_type": "execute_result",
          "data": {
            "text/plain": [
              "1.0"
            ]
          },
          "metadata": {
            "tags": []
          },
          "execution_count": 25
        }
      ]
    },
    {
      "cell_type": "markdown",
      "metadata": {
        "id": "aOaoj8iBTnbf"
      },
      "source": [
        "**Stistics**"
      ]
    },
    {
      "cell_type": "code",
      "metadata": {
        "colab": {
          "base_uri": "https://localhost:8080/"
        },
        "id": "RaHUuovgTYJc",
        "outputId": "42b620a2-65b8-4786-dd10-324eb7456cab"
      },
      "source": [
        "stat = np.array([[1,2,3], [8,6,4]])\n",
        "\n",
        "print(np.min(stat))\n",
        "print(np.max(stat))\n",
        "print(np.min(stat, axis = 1))\n",
        "print(np.max(stat, axis = 1))\n",
        "print(np.sum(stat))\n",
        "print(np.sum(stat, axis = 0))   #column wise sum\n",
        "print(np.sum(stat, axis = 1))   #row wise sum"
      ],
      "execution_count": null,
      "outputs": [
        {
          "output_type": "stream",
          "text": [
            "1\n",
            "8\n",
            "[1 4]\n",
            "[3 8]\n",
            "24\n",
            "[9 8 7]\n",
            "[ 6 18]\n"
          ],
          "name": "stdout"
        }
      ]
    },
    {
      "cell_type": "markdown",
      "metadata": {
        "id": "-4x70K-nUiKo"
      },
      "source": [
        "**Reorganizing Array**"
      ]
    },
    {
      "cell_type": "code",
      "metadata": {
        "colab": {
          "base_uri": "https://localhost:8080/"
        },
        "id": "vwNjGVZ0Ul-_",
        "outputId": "d97f3e61-208a-4856-9d16-8eeec9f897c8"
      },
      "source": [
        "print(stat.reshape(6,1), \"\\n\")\n",
        "print(stat.reshape(1, 6))"
      ],
      "execution_count": null,
      "outputs": [
        {
          "output_type": "stream",
          "text": [
            "[[1]\n",
            " [2]\n",
            " [3]\n",
            " [8]\n",
            " [6]\n",
            " [4]] \n",
            "\n",
            "[[1 2 3 8 6 4]]\n"
          ],
          "name": "stdout"
        }
      ]
    },
    {
      "cell_type": "code",
      "metadata": {
        "colab": {
          "base_uri": "https://localhost:8080/"
        },
        "id": "IEiOTQ7yVNZk",
        "outputId": "3243819c-1c7d-4189-99d3-955969d744f8"
      },
      "source": [
        "#vertically stacking vectors\n",
        "\n",
        "v1 = np.array([1, 2, 3, 4])\n",
        "v2 = np.array([2, 4, 6, 8])\n",
        "\n",
        "np.vstack([v1, v2, v1, v2])   #All similar kind of matrix"
      ],
      "execution_count": null,
      "outputs": [
        {
          "output_type": "execute_result",
          "data": {
            "text/plain": [
              "array([[1, 2, 3, 4],\n",
              "       [2, 4, 6, 8],\n",
              "       [1, 2, 3, 4],\n",
              "       [2, 4, 6, 8]])"
            ]
          },
          "metadata": {
            "tags": []
          },
          "execution_count": 40
        }
      ]
    },
    {
      "cell_type": "code",
      "metadata": {
        "colab": {
          "base_uri": "https://localhost:8080/"
        },
        "id": "I1-60f_0Vvm1",
        "outputId": "3e789b63-5cdc-4e99-89be-8bd2af418864"
      },
      "source": [
        "#Horizontal stack\n",
        "\n",
        "np.hstack([v1, v2])"
      ],
      "execution_count": null,
      "outputs": [
        {
          "output_type": "execute_result",
          "data": {
            "text/plain": [
              "array([1, 2, 3, 4, 2, 4, 6, 8])"
            ]
          },
          "metadata": {
            "tags": []
          },
          "execution_count": 42
        }
      ]
    },
    {
      "cell_type": "markdown",
      "metadata": {
        "id": "KmwSaQ6oWGXa"
      },
      "source": [
        "**Miscellaneous**"
      ]
    },
    {
      "cell_type": "code",
      "metadata": {
        "id": "oGRLzduBWMn9"
      },
      "source": [
        ""
      ],
      "execution_count": null,
      "outputs": []
    }
  ]
}